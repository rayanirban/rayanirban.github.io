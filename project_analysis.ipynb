{
 "cells": [
  {
   "cell_type": "markdown",
   "id": "cfdec463",
   "metadata": {},
   "source": [
    "# Data Analysis Project\n",
    "\n",
    "This notebook demonstrates a sample data visualization that can be embedded in your Quarto website."
   ]
  },
  {
   "cell_type": "code",
   "execution_count": null,
   "id": "7a681389",
   "metadata": {},
   "outputs": [],
   "source": [
    "import matplotlib.pyplot as plt\n",
    "import numpy as np\n",
    "import pandas as pd\n",
    "\n",
    "# Set style for better-looking plots\n",
    "plt.style.use('seaborn-v0_8-darkgrid')\n",
    "%matplotlib inline"
   ]
  },
  {
   "cell_type": "markdown",
   "id": "10f3cc75",
   "metadata": {},
   "source": [
    "## Sample Data Visualization\n",
    "\n",
    "Let's create some sample data and visualize it:"
   ]
  },
  {
   "cell_type": "code",
   "execution_count": null,
   "id": "eb28d55e",
   "metadata": {},
   "outputs": [],
   "source": [
    "# Generate sample data\n",
    "np.random.seed(42)\n",
    "months = ['Jan', 'Feb', 'Mar', 'Apr', 'May', 'Jun', 'Jul', 'Aug', 'Sep', 'Oct', 'Nov', 'Dec']\n",
    "sales = np.random.randint(50, 150, size=12)\n",
    "expenses = np.random.randint(30, 100, size=12)\n",
    "\n",
    "# Create DataFrame\n",
    "df = pd.DataFrame({\n",
    "    'Month': months,\n",
    "    'Sales': sales,\n",
    "    'Expenses': expenses\n",
    "})\n",
    "\n",
    "df['Profit'] = df['Sales'] - df['Expenses']\n",
    "df"
   ]
  },
  {
   "cell_type": "code",
   "execution_count": null,
   "id": "aa3fbc49",
   "metadata": {},
   "outputs": [],
   "source": [
    "# Create a comprehensive visualization\n",
    "fig, axes = plt.subplots(2, 2, figsize=(14, 10))\n",
    "fig.suptitle('Business Performance Analysis 2024', fontsize=16, fontweight='bold')\n",
    "\n",
    "# Plot 1: Line chart - Sales and Expenses over time\n",
    "axes[0, 0].plot(df['Month'], df['Sales'], marker='o', linewidth=2, label='Sales', color='#2563eb')\n",
    "axes[0, 0].plot(df['Month'], df['Expenses'], marker='s', linewidth=2, label='Expenses', color='#dc2626')\n",
    "axes[0, 0].set_title('Sales vs Expenses Trend', fontsize=12, fontweight='bold')\n",
    "axes[0, 0].set_xlabel('Month')\n",
    "axes[0, 0].set_ylabel('Amount ($1000s)')\n",
    "axes[0, 0].legend()\n",
    "axes[0, 0].grid(True, alpha=0.3)\n",
    "axes[0, 0].tick_params(axis='x', rotation=45)\n",
    "\n",
    "# Plot 2: Bar chart - Monthly profit\n",
    "colors = ['#10b981' if x > 0 else '#ef4444' for x in df['Profit']]\n",
    "axes[0, 1].bar(df['Month'], df['Profit'], color=colors, alpha=0.8)\n",
    "axes[0, 1].set_title('Monthly Profit', fontsize=12, fontweight='bold')\n",
    "axes[0, 1].set_xlabel('Month')\n",
    "axes[0, 1].set_ylabel('Profit ($1000s)')\n",
    "axes[0, 1].axhline(y=0, color='black', linestyle='-', linewidth=0.8)\n",
    "axes[0, 1].grid(True, alpha=0.3, axis='y')\n",
    "axes[0, 1].tick_params(axis='x', rotation=45)\n",
    "\n",
    "# Plot 3: Pie chart - Total distribution\n",
    "totals = [df['Sales'].sum(), df['Expenses'].sum()]\n",
    "labels = ['Total Sales', 'Total Expenses']\n",
    "colors_pie = ['#2563eb', '#dc2626']\n",
    "axes[1, 0].pie(totals, labels=labels, autopct='%1.1f%%', startangle=90, colors=colors_pie)\n",
    "axes[1, 0].set_title('Sales vs Expenses Distribution', fontsize=12, fontweight='bold')\n",
    "\n",
    "# Plot 4: Scatter plot with trend line\n",
    "x = np.arange(len(df))\n",
    "axes[1, 1].scatter(df['Sales'], df['Profit'], s=100, alpha=0.6, color='#8b5cf6')\n",
    "axes[1, 1].set_title('Sales vs Profit Correlation', fontsize=12, fontweight='bold')\n",
    "axes[1, 1].set_xlabel('Sales ($1000s)')\n",
    "axes[1, 1].set_ylabel('Profit ($1000s)')\n",
    "axes[1, 1].grid(True, alpha=0.3)\n",
    "\n",
    "# Add trend line\n",
    "z = np.polyfit(df['Sales'], df['Profit'], 1)\n",
    "p = np.poly1d(z)\n",
    "axes[1, 1].plot(df['Sales'], p(df['Sales']), \"r--\", alpha=0.8, linewidth=2, label='Trend')\n",
    "axes[1, 1].legend()\n",
    "\n",
    "plt.tight_layout()\n",
    "plt.show()"
   ]
  },
  {
   "cell_type": "markdown",
   "id": "b90c2683",
   "metadata": {},
   "source": [
    "## Key Insights\n",
    "\n",
    "From the analysis above, we can observe:\n",
    "\n",
    "1. **Seasonal Trends**: Sales show variation throughout the year\n",
    "2. **Profitability**: Most months show positive profit margins\n",
    "3. **Correlation**: Strong positive correlation between sales and profit\n",
    "4. **Cost Management**: Expenses remain relatively stable\n",
    "\n",
    "## Next Steps\n",
    "\n",
    "- Implement predictive modeling for future sales\n",
    "- Analyze customer segmentation\n",
    "- Optimize pricing strategy\n",
    "- Reduce operational costs"
   ]
  },
  {
   "cell_type": "code",
   "execution_count": null,
   "id": "d784d42f",
   "metadata": {},
   "outputs": [],
   "source": [
    "# Summary statistics\n",
    "print(\"=\" * 50)\n",
    "print(\"PERFORMANCE SUMMARY\")\n",
    "print(\"=\" * 50)\n",
    "print(f\"Total Sales: ${df['Sales'].sum()},000\")\n",
    "print(f\"Total Expenses: ${df['Expenses'].sum()},000\")\n",
    "print(f\"Total Profit: ${df['Profit'].sum()},000\")\n",
    "print(f\"Average Monthly Profit: ${df['Profit'].mean():.2f},000\")\n",
    "print(f\"Best Month: {df.loc[df['Profit'].idxmax(), 'Month']} (${df['Profit'].max()},000)\")\n",
    "print(f\"Worst Month: {df.loc[df['Profit'].idxmin(), 'Month']} (${df['Profit'].min()},000)\")\n",
    "print(\"=\" * 50)"
   ]
  }
 ],
 "metadata": {
  "language_info": {
   "name": "python"
  }
 },
 "nbformat": 4,
 "nbformat_minor": 5
}
